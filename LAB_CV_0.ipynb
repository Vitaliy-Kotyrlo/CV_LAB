{
 "cells": [
  {
   "cell_type": "code",
   "execution_count": 65,
   "metadata": {},
   "outputs": [],
   "source": [
    "import cv2\n",
    "import numpy as np\n",
    "\n",
    "import time\n",
    "import matplotlib.image as mpimg\n",
    "\n",
    "%matplotlib inline"
   ]
  },
  {
   "cell_type": "code",
   "execution_count": 66,
   "metadata": {},
   "outputs": [
    {
     "name": "stdout",
     "output_type": "stream",
     "text": [
      "Taking image...\n",
      "finish\n"
     ]
    }
   ],
   "source": [
    "test_photos = 30\n",
    "camera = cv2.VideoCapture(0)\n",
    "\n",
    "#name for file\n",
    "file = \"my_face_\"+str(int(time.time()))+\".png\"\n",
    "\n",
    "#calibrate the camera\n",
    "for i in range(test_photos):\n",
    "    temp = camera.read()[1]\n",
    "    \n",
    "print(\"Taking image...\")\n",
    "camera_capture = camera.read()[1]\n",
    "cv2.imwrite(file, camera_capture)\n",
    "del(camera)\n",
    "print(\"finish\")\n",
    "\n",
    "img = cv2.imread(file,-1)"
   ]
  },
  {
   "cell_type": "code",
   "execution_count": 67,
   "metadata": {},
   "outputs": [],
   "source": [
    "if img is None : \n",
    "    print(\"We can not find image \\ndo not run the follow cells\")"
   ]
  },
  {
   "cell_type": "code",
   "execution_count": 68,
   "metadata": {},
   "outputs": [],
   "source": [
    "#show your face\n",
    "cv2.namedWindow(\"Face\")\n",
    "cv2.startWindowThread()\n",
    "\n",
    "cv2.imshow('face',img)\n",
    "cv2.waitKey(0)\n",
    "cv2.destroyAllWindows()\n",
    "\n"
   ]
  },
  {
   "cell_type": "code",
   "execution_count": 74,
   "metadata": {},
   "outputs": [],
   "source": [
    "#get image in grayscale space\n",
    "gray_image = cv2.cvtColor(img, cv2.COLOR_BGR2GRAY)\n",
    "#get grayscale image in bgr space\n",
    "gray_image = cv2.cvtColor(gray_image, cv2.COLOR_GRAY2BGR)"
   ]
  },
  {
   "cell_type": "code",
   "execution_count": null,
   "metadata": {},
   "outputs": [],
   "source": []
  },
  {
   "cell_type": "code",
   "execution_count": 75,
   "metadata": {},
   "outputs": [],
   "source": [
    "height, width = img.shape[:2]"
   ]
  },
  {
   "cell_type": "code",
   "execution_count": 76,
   "metadata": {},
   "outputs": [],
   "source": [
    "img_line=cv2.line(gray_image,(0,0),(width,height),(255,255,0),4)\n",
    "img_line_rect =cv2.rectangle(img_line,(width//3,height//3),(width*2//3,height*2//3),(0,255,255),6)"
   ]
  },
  {
   "cell_type": "code",
   "execution_count": 77,
   "metadata": {},
   "outputs": [],
   "source": [
    "cv2.namedWindow(\"Face_line\")\n",
    "cv2.startWindowThread()\n",
    "\n",
    "cv2.imshow('gray_face',img_line_rect)\n",
    "cv2.waitKey(0)\n",
    "cv2.destroyAllWindows()"
   ]
  },
  {
   "cell_type": "code",
   "execution_count": null,
   "metadata": {},
   "outputs": [],
   "source": []
  }
 ],
 "metadata": {
  "kernelspec": {
   "display_name": "Python 3",
   "language": "python",
   "name": "python3"
  },
  "language_info": {
   "codemirror_mode": {
    "name": "ipython",
    "version": 3
   },
   "file_extension": ".py",
   "mimetype": "text/x-python",
   "name": "python",
   "nbconvert_exporter": "python",
   "pygments_lexer": "ipython3",
   "version": "3.6.4"
  }
 },
 "nbformat": 4,
 "nbformat_minor": 2
}
